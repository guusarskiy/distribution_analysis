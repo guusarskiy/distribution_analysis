{
 "cells": [
  {
   "cell_type": "code",
   "execution_count": 6,
   "metadata": {},
   "outputs": [],
   "source": [
    "import numpy as np\n",
    "import pandas as pd\n",
    "from fitter import Fitter\n",
    "import sys\n",
    "\n",
    "def get_top_fitter(data, distributions=['norm', 'lognorm', 'rayleigh', 'foldnorm', 'weibull_min', 'weibull_max', 'pearson3']):\n",
    "    fitter_model = Fitter(data, distributions=distributions, timeout=30)\n",
    "    fitter_model.fit()\n",
    "    top1 = fitter_model.get_best()\n",
    "    top1_dist = list(top1.keys())[0]\n",
    "\n",
    "    return top1_dist\n",
    "\n",
    "def get_distr_class(fitter_class):\n",
    "    if fitter_class == 'norm':\n",
    "        return 'Нормальное распределение'\n",
    "    elif fitter_class == 'lognorm':\n",
    "        return 'Логнормальное распределение'\n",
    "    elif fitter_class == 'rayleigh':\n",
    "        return 'Распределение Рэлея'\n",
    "    elif fitter_class == 'foldnorm':\n",
    "        return 'Свернутое нормальное распределение'\n",
    "    elif fitter_class == 'weibull_min':\n",
    "        return 'Распределение Вейбулла (с правосторонним хвостом)'\n",
    "    elif fitter_class == 'weibull_max':\n",
    "        return 'Распределение Вейбулла (с левосторонним хвостом)'\n",
    "    elif fitter_class == 'pearson3':\n",
    "        return 'Система распределений Пирсона'\n",
    "    else:\n",
    "        return 'Смешанное распределение'\n",
    "    \n",
    "def analyze_xlsx(file_path):\n",
    "    df = pd.read_excel(file_path)\n",
    "    first_column = df.iloc[:, 0]  \n",
    "\n",
    "    return first_column\n"
   ]
  },
  {
   "cell_type": "code",
   "execution_count": 7,
   "metadata": {},
   "outputs": [
    {
     "name": "stdout",
     "output_type": "stream",
     "text": [
      "Свернутое нормальное распределение\n"
     ]
    }
   ],
   "source": [
    "file_path = 'examples_distr/Логнормальное2.xlsx'\n",
    "\n",
    "time_series = analyze_xlsx(file_path)\n",
    "top_fitter = get_top_fitter(time_series)\n",
    "distr_class = get_distr_class(top_fitter)\n",
    "\n",
    "print(distr_class)"
   ]
  }
 ],
 "metadata": {
  "kernelspec": {
   "display_name": "env_corr",
   "language": "python",
   "name": "python3"
  },
  "language_info": {
   "codemirror_mode": {
    "name": "ipython",
    "version": 3
   },
   "file_extension": ".py",
   "mimetype": "text/x-python",
   "name": "python",
   "nbconvert_exporter": "python",
   "pygments_lexer": "ipython3",
   "version": "3.12.2"
  }
 },
 "nbformat": 4,
 "nbformat_minor": 2
}
